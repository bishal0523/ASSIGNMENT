{
 "cells": [
  {
   "cell_type": "code",
   "execution_count": 2,
   "id": "caba7297-b2d9-4e42-be60-9061c0fc5e59",
   "metadata": {},
   "outputs": [
    {
     "name": "stdout",
     "output_type": "stream",
     "text": [
      "Make: Toyota\n",
      "Model: Camry\n",
      "Year: 2022\n",
      "Current Speed: 30 km/h\n",
      "Make: Honda\n",
      "Model: Accord\n",
      "Year: 2021\n",
      "Current Speed: 40 km/h\n"
     ]
    }
   ],
   "source": [
    "#Q1. Explain Class and Object with respect to Object-Oriented Programming. Give a suitable example.\n",
    "#ansIn object-oriented programming (OOP), a class is a blueprint or a template for creating objects, while an object is an instance of a class.\n",
    "#A class defines the common properties (attributes) and behaviors (methods) that objects of that class will possess. It encapsulates the data and functionality into a single entity. It serves as a blueprint for creating multiple objects with similar characteristics.\n",
    "#An object, on the other hand, is a specific instance of a class. It represents a unique entity that has its own state and behavior. Objects are created based on the defined class, and they can interact with each other by invoking methods or accessing attributes.\n",
    "#Here's an example to illustrate the concept:\n",
    "class Car:\n",
    "    def __init__(self, make, model, year):\n",
    "        self.make = make\n",
    "        self.model = model\n",
    "        self.year = year\n",
    "        self.speed = 0\n",
    "\n",
    "    def accelerate(self, speed_increase):\n",
    "        self.speed += speed_increase\n",
    "\n",
    "    def brake(self, speed_decrease):\n",
    "        self.speed -= speed_decrease\n",
    "\n",
    "    def display_info(self):\n",
    "        print(f\"Make: {self.make}\")\n",
    "        print(f\"Model: {self.model}\")\n",
    "        print(f\"Year: {self.year}\")\n",
    "        print(f\"Current Speed: {self.speed} km/h\")\n",
    "\n",
    "\n",
    "# Creating objects of the Car class\n",
    "car1 = Car(\"Toyota\", \"Camry\", 2022)\n",
    "car2 = Car(\"Honda\", \"Accord\", 2021)\n",
    "\n",
    "# Modifying object attributes\n",
    "car1.accelerate(30)\n",
    "car2.accelerate(40)\n",
    "\n",
    "# Displaying object information\n",
    "car1.display_info()\n",
    "car2.display_info()\n"
   ]
  },
  {
   "cell_type": "code",
   "execution_count": 3,
   "id": "c25db5e9-cc40-452e-b070-93adbba36b33",
   "metadata": {},
   "outputs": [],
   "source": [
    "#2.Q2. Name the four pillars of OOPs.\n",
    "#ans.The four pillars of object-oriented programming (OOP) are:\n",
    "\n",
    "# Encapsulation: Encapsulation is the process of bundling data (attributes) and methods (behaviors) together within a class, such that the internal details and implementation are hidden from the outside. It provides data protection and abstraction, allowing objects to interact with each other through well-defined interfaces.\n",
    "#Inheritance: Inheritance allows the creation of new classes (derived classes) based on existing classes (base classes or parent classes). The derived classes inherit the attributes and methods of the base class, enabling code reuse and the extension of functionality. Inheritance supports the concept of \"is-a\" relationship, where a derived class is a specialized version of the base class.\n",
    "# Polymorphism: Polymorphism allows objects of different classes to be treated as objects of a common superclass. It enables the use of a single interface to represent different types or classes, providing flexibility and code reusability. Polymorphism allows method overriding (redefining a method in the derived class) and method overloading (defining multiple methods with the same name but different parameters).\n",
    "#Abstraction: Abstraction focuses on the essential features of an object or a class while hiding unnecessary details. It allows the creation of abstract classes or interfaces that define a common set of methods that derived classes must implement. Abstraction helps in managing complexity and provides a high-level view of the system, enabling modular design and implementation.\n"
   ]
  },
  {
   "cell_type": "code",
   "execution_count": 4,
   "id": "410baed1-1539-4e0e-8019-113fb7d2ba77",
   "metadata": {},
   "outputs": [
    {
     "name": "stdout",
     "output_type": "stream",
     "text": [
      "John\n",
      "30\n",
      "Name: John\n",
      "Age: 25\n",
      "Name: Emily\n",
      "Age: 30\n"
     ]
    }
   ],
   "source": [
    "#Q3. Explain why the __init__() function is used. Give a suitable example.\n",
    "#The __init__() function is a special method in Python classes that is automatically called when an object of that class is created. It is commonly known as the constructor. The primary purpose of the __init__() function is to initialize the attributes (data members) of an object with initial values.\n",
    "#Here's an example to illustrate the use of __init__():\n",
    "class Person:\n",
    "    def __init__(self, name, age):\n",
    "        self.name = name\n",
    "        self.age = age\n",
    "\n",
    "    def display_info(self):\n",
    "        print(f\"Name: {self.name}\")\n",
    "        print(f\"Age: {self.age}\")\n",
    "\n",
    "\n",
    "# Creating objects and initializing attributes using __init__()\n",
    "person1 = Person(\"John\", 25)\n",
    "person2 = Person(\"Emily\", 30)\n",
    "\n",
    "# Accessing object attributes\n",
    "print(person1.name)  # Output: John\n",
    "print(person2.age)   # Output: 30\n",
    "\n",
    "# Invoking object methods\n",
    "person1.display_info()\n",
    "person2.display_info()\n"
   ]
  },
  {
   "cell_type": "code",
   "execution_count": 5,
   "id": "bb9d6d24-4c63-4ea9-9b87-642c5210371a",
   "metadata": {},
   "outputs": [
    {
     "name": "stdout",
     "output_type": "stream",
     "text": [
      "Hello, my name is Alice and I'm 30 years old.\n"
     ]
    }
   ],
   "source": [
    "#Q4. Why self is used in OOPs?\n",
    "#In object-oriented programming (OOP), the self parameter is used as a convention to refer to the instance of a class within its own methods. It acts as a reference to the object on which a method is being called. The use of self allows accessing and manipulating the object's attributes and invoking its methods.\n",
    "#Here are the key reasons why self is used in OOP:\n",
    "#Accessing attributes and methods: By using self as the first parameter in a method, you can access the attributes and methods of the object within that method. It allows you to refer to the specific instance of the class and access its unique data.\n",
    "#Distinguishing between instance and local variables: In Python, you need to explicitly differentiate between instance variables (attributes) and local variables within a method. By using self, you can make it clear that you are accessing or modifying an attribute of the object rather than creating a new local variable.\n",
    "#Enabling method invocation: When you invoke a method on an object, you use dot notation (e.g., object.method()). The self parameter represents the object itself, and it enables the method to be executed in the context of that specific object.\n",
    "#Differentiating between class and instance attributes: self helps distinguish between class attributes (shared among all instances of a class) and instance attributes (specific to each object). Class attributes are accessed without self, while instance attributes are accessed with self.\n",
    "class Person:\n",
    "    def __init__(self, name, age):\n",
    "        self.name = name  # instance attribute\n",
    "        self.age = age    # instance attribute\n",
    "\n",
    "    def introduce(self):\n",
    "        print(f\"Hello, my name is {self.name} and I'm {self.age} years old.\")\n",
    "\n",
    "\n",
    "person1 = Person(\"Alice\", 30)\n",
    "person1.introduce()  # Output: Hello, my name is Alice and I'm 30 years old.\n"
   ]
  },
  {
   "cell_type": "code",
   "execution_count": 6,
   "id": "ee4d3e05-ac6e-4da3-9924-db4d63183043",
   "metadata": {},
   "outputs": [
    {
     "ename": "IndentationError",
     "evalue": "unexpected indent (1303595191.py, line 7)",
     "output_type": "error",
     "traceback": [
      "\u001b[0;36m  Cell \u001b[0;32mIn[6], line 7\u001b[0;36m\u001b[0m\n\u001b[0;31m    class Animal:\u001b[0m\n\u001b[0m    ^\u001b[0m\n\u001b[0;31mIndentationError\u001b[0m\u001b[0;31m:\u001b[0m unexpected indent\n"
     ]
    }
   ],
   "source": [
    "#Q5. What is inheritance? Give an example for each type of inheritance.\n",
    "#ans-Inheritance is a fundamental concept in object-oriented programming (OOP) that allows the creation of new classes (derived classes) based on existing classes (base classes or parent classes). The derived classes inherit the attributes and methods of the base class, enabling code reuse and the extension of functionality. Inheritance supports the concept of \"is-a\" relationship, where a derived class is a specialized version of the base class.\n",
    "#There are different types of inheritance:\n",
    "#Single Inheritance: Single inheritance is the simplest form of inheritance where a derived class inherits from a single base class. The derived class inherits all the attributes and methods of the base class.\n",
    "\n",
    "   # Example:\n",
    "    class Animal:\n",
    "    def eat(self):\n",
    "        print(\"Eating...\")\n",
    "\n",
    "class Dog(Animal):\n",
    "    def bark(self):\n",
    "        print(\"Barking...\")\n",
    "\n",
    "# Dog class inherits from Animal class\n",
    "dog = Dog()\n",
    "dog.eat()  # Inherited method from Animal class\n",
    "dog.bark()  # Method specific to Dog class\n",
    "#Multiple Inheritance: Multiple inheritance occurs when a derived class inherits from two or more base classes. The derived class inherits attributes and methods from all the base classes.\n",
    "#Example:\n",
    "class Animal:\n",
    "    def eat(self):\n",
    "        print(\"Eating...\")\n",
    "\n",
    "class CanFly:\n",
    "    def fly(self):\n",
    "        print(\"Flying...\")\n",
    "\n",
    "class Bird(Animal, CanFly):\n",
    "    def chirp(self):\n",
    "        print(\"Chirping...\")\n",
    "\n",
    "# Bird class inherits from Animal and CanFly classes\n",
    "bird = Bird()\n",
    "bird.eat()  # Inherited method from Animal class\n",
    "bird.fly()  # Inherited method from CanFly class\n",
    "bird.chirp()  # Method specific to Bird class\n",
    "#Multilevel Inheritance: Multilevel inheritance occurs when a derived class inherits from a base class, and another class is derived from the first derived class. In this way, a hierarchy of classes is formed.\n",
    "#Example:\n",
    "class Animal:\n",
    "    def eat(self):\n",
    "        print(\"Eating...\")\n",
    "\n",
    "class Dog(Animal):\n",
    "    def bark(self):\n",
    "        print(\"Barking...\")\n",
    "\n",
    "class Bulldog(Dog):\n",
    "    def guard(self):\n",
    "        print(\"Guarding...\")\n",
    "\n",
    "# Bulldog class inherits from Dog class, which inherits from Animal class\n",
    "bulldog = Bulldog()\n",
    "bulldog.eat()  # Inherited method from Animal class\n",
    "bulldog.bark()  # Inherited method from Dog class\n",
    "bulldog.guard()  # Method specific to Bulldog class\n",
    "#Hierarchical Inheritance: Hierarchical inheritance occurs when multiple derived classes inherit from a single base class. It represents a one-to-many relationship.\n",
    "\n",
    "#Example:\n",
    "class Animal:\n",
    "    def eat(self):\n",
    "        print(\"Eating...\")\n",
    "\n",
    "class Dog(Animal):\n",
    "    def bark(self):\n",
    "        print(\"Barking...\")\n",
    "\n",
    "class Cat(Animal):\n",
    "    def meow(self):\n",
    "        print(\"Meowing...\")\n",
    "\n",
    "# Dog and Cat classes inherit from Animal class\n",
    "dog = Dog()\n",
    "dog.eat()  # Inherited method from Animal class\n",
    "dog.bark()  # Method specific to Dog class\n",
    "\n",
    "cat = Cat()\n",
    "cat.eat()  # Inherited method from Animal class\n",
    "cat.meow()  # Method specific to Cat class\n",
    "\n"
   ]
  },
  {
   "cell_type": "code",
   "execution_count": null,
   "id": "f30a8a30-fa33-4507-a7f9-9b86a64331b0",
   "metadata": {},
   "outputs": [],
   "source": []
  }
 ],
 "metadata": {
  "kernelspec": {
   "display_name": "Python 3 (ipykernel)",
   "language": "python",
   "name": "python3"
  },
  "language_info": {
   "codemirror_mode": {
    "name": "ipython",
    "version": 3
   },
   "file_extension": ".py",
   "mimetype": "text/x-python",
   "name": "python",
   "nbconvert_exporter": "python",
   "pygments_lexer": "ipython3",
   "version": "3.10.8"
  }
 },
 "nbformat": 4,
 "nbformat_minor": 5
}
